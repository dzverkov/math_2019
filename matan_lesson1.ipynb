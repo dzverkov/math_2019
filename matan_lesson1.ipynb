{
 "cells": [
  {
   "cell_type": "markdown",
   "metadata": {},
   "source": [
    "Даны три множества a,b и с. Необходимо выполнить все изученные виды бинарных операций над всеми комбинациями множеств"
   ]
  },
  {
   "cell_type": "code",
   "execution_count": 9,
   "metadata": {},
   "outputs": [
    {
     "name": "stdout",
     "output_type": "stream",
     "text": [
      "Пересечение a,b = {1}\n",
      "Пересечение a,c = set()\n",
      "Пересечение b,c = {4}\n",
      "Объединение a,b = {1, 3, 4, 5, 7}\n",
      "Объединение a,c = {1, 2, 3, 4, 5, 6}\n",
      "Объединение b,c = {1, 2, 4, 6, 7}\n",
      "Разность a,b = {3, 5}\n",
      "Разность a,c = {1, 3, 5}\n",
      "Разность b,c = {1, 7}\n",
      "Симмертическая разность a,b = {3, 4, 5, 7}\n",
      "Симмертическая разность a,c = {1, 2, 3, 4, 5, 6}\n",
      "Симмертическая разность b,c = {1, 2, 6, 7}\n"
     ]
    }
   ],
   "source": [
    "a = set({5,1,3})\n",
    "b = set({1,7,4})\n",
    "c = set({2,4,6})\n",
    "\n",
    "# Пересeчение\n",
    "print(f'Пересечение a,b = {a.intersection(b)}')\n",
    "print(f'Пересечение a,c = {a.intersection(c)}')\n",
    "print(f'Пересечение b,c = {b.intersection(c)}')\n",
    "\n",
    "# Объединение\n",
    "print(f'Объединение a,b = {a.union(b)}')\n",
    "print(f'Объединение a,c = {a.union(c)}')\n",
    "print(f'Объединение b,c = {b.union(c)}')\n",
    "\n",
    "# Разность\n",
    "print(f'Разность a,b = {a.difference(b)}')\n",
    "print(f'Разность a,c = {a.difference(c)}')\n",
    "print(f'Разность b,c = {b.difference(c)}')\n",
    "\n",
    "# Симмертическая разность\n",
    "print(f'Симмертическая разность a,b = {a.symmetric_difference(b)}')\n",
    "print(f'Симмертическая разность a,c = {a.symmetric_difference(c)}')\n",
    "print(f'Симмертическая разность b,c = {b.symmetric_difference(c)}')"
   ]
  },
  {
   "cell_type": "code",
   "execution_count": 20,
   "metadata": {},
   "outputs": [
    {
     "name": "stdout",
     "output_type": "stream",
     "text": [
      "14 2.248266137155026e-09\n"
     ]
    }
   ],
   "source": [
    "from math import factorial\n",
    "\n",
    "def f(n):\n",
    "    return n/(factorial(n)**1/n)\n",
    "\n",
    "prev = 0\n",
    "cur = 0\n",
    "for i in range(1, 10000000):\n",
    "    cur = f(i)\n",
    "    if abs(prev-cur) <= 1e-7:\n",
    "        break\n",
    "    prev = cur    \n",
    "print(i, cur)        "
   ]
  }
 ],
 "metadata": {
  "kernelspec": {
   "display_name": "Python 3",
   "language": "python",
   "name": "python3"
  },
  "language_info": {
   "codemirror_mode": {
    "name": "ipython",
    "version": 3
   },
   "file_extension": ".py",
   "mimetype": "text/x-python",
   "name": "python",
   "nbconvert_exporter": "python",
   "pygments_lexer": "ipython3",
   "version": "3.7.1"
  }
 },
 "nbformat": 4,
 "nbformat_minor": 2
}
