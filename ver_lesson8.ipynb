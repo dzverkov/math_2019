{
 "cells": [
  {
   "cell_type": "code",
   "execution_count": 2,
   "metadata": {},
   "outputs": [],
   "source": [
    "import numpy as np"
   ]
  },
  {
   "cell_type": "markdown",
   "metadata": {},
   "source": [
    "### Задание 1"
   ]
  },
  {
   "cell_type": "markdown",
   "metadata": {},
   "source": [
    "Провести дисперсионный анализ для определения того, есть ли различия среднего роста среди взрослых футболистов, хоккеистов и штангистов. Даны значения роста в трех группах случайно выбранных спортсменов: Футболисты: 173, 175, 180, 178, 177, 185, 183, 182. Хоккеисты: 177, 179, 180, 188, 177, 172, 171, 184, 180. Штангисты: 172, 173, 169, 177, 166, 180, 178, 177, 172, 166, 170."
   ]
  },
  {
   "cell_type": "code",
   "execution_count": 3,
   "metadata": {},
   "outputs": [],
   "source": [
    "h_footballer = np.array([173, 175, 180, 178, 177, 185, 183, 182])\n",
    "h_hockey_player = np.array([177, 179, 180, 188, 177, 172, 171, 184, 180])\n",
    "h_weightlifter = np.array([172, 173, 169, 177, 166, 180, 178, 177, 172, 166, 170])"
   ]
  },
  {
   "cell_type": "code",
   "execution_count": 50,
   "metadata": {},
   "outputs": [],
   "source": [
    "k=3\n",
    "n_f = len(h_footballer)\n",
    "n_h = len(h_hockey_player)\n",
    "n_w = len(h_weightlifter)\n",
    "\n",
    "ym_f = h_footballer.mean()\n",
    "ym_h  = h_hockey_player.mean()\n",
    "ym_w  = h_weightlifter.mean()\n",
    "\n",
    "hc = np.concatenate([h_footballer, h_hockey_player, h_weightlifter])\n",
    "nc = len(hc)\n",
    "\n",
    "Ym = hc.mean()\n",
    "# Сумма квадратов отклонений от общего среднего\n",
    "S2 = np.array([(el-Ym)**2 for el in hc]).sum()\n",
    "# Сумма квадратов отклонений средних групповых значений от общего среднего\n",
    "S2F = (ym_f-Ym)**2*n_f + (ym_h-Ym)**2*n_h + (ym_w-Ym)**2*n_w\n",
    "# Остаточная сумма квадратов отклонений\n",
    "S2res = np.sum((h_footballer - ym_f)**2) + np.sum((h_hockey_player - ym_h)**2) + np.sum((h_weightlifter - ym_w)**2)"
   ]
  },
  {
   "cell_type": "code",
   "execution_count": 36,
   "metadata": {},
   "outputs": [],
   "source": [
    "# Общая дисперсия\n",
    "sygm = S2/(nc-1)\n",
    "# Факторная дисперсия\n",
    "sygm_f = S2F/(k-1)\n",
    "# Остаточная дисперсия\n",
    "sygm_res = S2res/(nc-k)"
   ]
  },
  {
   "cell_type": "code",
   "execution_count": 46,
   "metadata": {},
   "outputs": [
    {
     "name": "stdout",
     "output_type": "stream",
     "text": [
      "Fn=5.500053450812598\n",
      "Fcr=3.3852\n",
      "Fn > Fcr, значит различие между группами статистически значимоое\n"
     ]
    }
   ],
   "source": [
    "# F критерий наблюдаемый\n",
    "Fn = sygm_f/sygm_res # 5.5\n",
    "print(f'Fn={Fn}')\n",
    "# межгрупповая\n",
    "df_m = k - 1 # 2\n",
    "# внутригрупповая\n",
    "df_i = nc - k # 25\n",
    "#print(df_m, df_i)\n",
    "\n",
    "# F критерий, табличное значение\n",
    "Fcr = 3.3852\n",
    "print(f'Fcr={Fcr}')\n",
    "print('Fn > Fcr, значит различие между группами статистически значимоое')\n"
   ]
  },
  {
   "cell_type": "code",
   "execution_count": null,
   "metadata": {},
   "outputs": [],
   "source": []
  }
 ],
 "metadata": {
  "kernelspec": {
   "display_name": "Python 3",
   "language": "python",
   "name": "python3"
  },
  "language_info": {
   "codemirror_mode": {
    "name": "ipython",
    "version": 3
   },
   "file_extension": ".py",
   "mimetype": "text/x-python",
   "name": "python",
   "nbconvert_exporter": "python",
   "pygments_lexer": "ipython3",
   "version": "3.7.1"
  }
 },
 "nbformat": 4,
 "nbformat_minor": 2
}
