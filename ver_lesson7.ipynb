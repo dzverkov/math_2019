{
 "cells": [
  {
   "cell_type": "code",
   "execution_count": 5,
   "metadata": {},
   "outputs": [],
   "source": [
    "import numpy as np\n",
    "import matplotlib.pyplot as plt"
   ]
  },
  {
   "cell_type": "markdown",
   "metadata": {},
   "source": [
    "### Задание 1"
   ]
  },
  {
   "cell_type": "markdown",
   "metadata": {},
   "source": [
    "Даны значения величины заработной платы заемщиков банка (zp) и значения их поведенческого кредитного скоринга (ks): zp = [35, 45, 190, 200, 40, 70, 54, 150, 120, 110], ks = [401, 574, 874, 919, 459, 739, 653, 902, 746, 832]. Используя математические операции, посчитать коэффициенты линейной регрессии, приняв за X заработную плату (то есть, zp - признак), а за y - значения скорингового балла (то есть, ks - целевая переменная). Произвести расчет как с использованием intercept, так и без."
   ]
  },
  {
   "cell_type": "code",
   "execution_count": 14,
   "metadata": {},
   "outputs": [
    {
     "name": "stdout",
     "output_type": "stream",
     "text": [
      "Способ 1. С использованием intercept.\n",
      "\n",
      "b = 2.620538882402765\n",
      "a = 444.1773573243596\n",
      "y_hat = [535.89621821 562.10160703 942.07974498 968.2851338  548.99891262\n",
      " 627.61507909 585.68645697 837.25818968 758.64202321 732.43663439]\n"
     ]
    },
    {
     "data": {
      "image/png": "[encoded data removed]",
      "text/plain": [
       "<Figure size 432x288 with 1 Axes>"
      ]
     },
     "metadata": {
      "needs_background": "light"
     },
     "output_type": "display_data"
    },
    {
     "name": "stdout",
     "output_type": "stream",
     "text": [
      "Способ 2. Без использования intercept (матричный метод.\n",
      "\n",
      "B = [[444.17735732]\n",
      " [  2.62053888]]\n"
     ]
    }
   ],
   "source": [
    "zp = np.array([35, 45, 190, 200, 40, 70, 54, 150, 120, 110])\n",
    "ks = np.array([401, 574, 874, 919, 459, 739, 653, 902, 746, 832])\n",
    "\n",
    "n = 10\n",
    "\n",
    "# С использованием intercept\n",
    "\n",
    "print(\"Способ 1. С использованием intercept.\\n\")\n",
    "b = (np.mean(zp * ks) - np.mean(zp) * np.mean(ks)) / (np.mean(zp**2) - np.mean(zp) ** 2)\n",
    "print(f\"b = {b}\")\n",
    "\n",
    "a = np.mean(ks) - b * np.mean(zp)\n",
    "print(f\"a = {a}\")\n",
    "\n",
    "y_hat = a + b * zp\n",
    "print(f\"y_hat = {y_hat}\")\n",
    "\n",
    "%matplotlib inline\n",
    "plt.scatter(zp, ks)\n",
    "plt.plot(zp, a + b * zp)\n",
    "plt.xlabel('Величина заработной платы (zp)')\n",
    "plt.ylabel('Кредитный скоринг (ks)')\n",
    "plt.show()\n",
    "\n",
    "# Без использования intercept (матричный метод)\n",
    "print(\"Способ 2. Без использования intercept (матричный метод.\\n\")\n",
    "\n",
    "zp1 = zp.reshape((n,1))\n",
    "ks1 = ks.reshape((n,1))\n",
    "\n",
    "zp1 = np.hstack([np.ones((n,1)), zp1])\n",
    "B = np.dot(np.linalg.inv(np.dot(zp1.T,zp1)), zp1.T @ ks1)\n",
    "print(f\"B = {B}\")"
   ]
  },
  {
   "cell_type": "markdown",
   "metadata": {},
   "source": [
    "### Задание 2"
   ]
  },
  {
   "cell_type": "markdown",
   "metadata": {},
   "source": [
    "Посчитать коэффициент линейной регрессии при заработной плате (zp), используя градиентный спуск (без intercept)"
   ]
  },
  {
   "cell_type": "code",
   "execution_count": 17,
   "metadata": {},
   "outputs": [
    {
     "name": "stdout",
     "output_type": "stream",
     "text": [
      "Iteration 0: B1 = 0.15952808\n",
      "Iteration 1000: B1 = 0.15793187155662597\n",
      "Iteration 2000: B1 = 0.15793187155662597\n",
      "Iteration 3000: B1 = 0.15793187155662597\n",
      "Iteration 4000: B1 = 0.15793187155662597\n",
      "Iteration 5000: B1 = 0.15793187155662597\n",
      "Iteration 6000: B1 = 0.15793187155662597\n",
      "Iteration 7000: B1 = 0.15793187155662597\n",
      "Iteration 8000: B1 = 0.15793187155662597\n",
      "Iteration 9000: B1 = 0.15793187155662597\n",
      "\n",
      "B1 = 0.15793187155662597\n"
     ]
    }
   ],
   "source": [
    "zp = np.array([35, 45, 190, 200, 40, 70, 54, 150, 120, 110])\n",
    "ks = np.array([401, 574, 874, 919, 459, 739, 653, 902, 746, 832])\n",
    "n = 10\n",
    "alpha = 1e-6\n",
    "B1 = 0.1\n",
    "\n",
    "for i in range(10000):\n",
    "    B1 = -alpha*(2/n)*np.sum((B1*zp-ks)*zp)\n",
    "    if i % 1000 == 0:\n",
    "        print(f\"Iteration {i}: B1 = {B1}\")\n",
    "print(f\"\\nB1 = {B1}\")"
   ]
  },
  {
   "cell_type": "markdown",
   "metadata": {},
   "source": [
    "### Задание 3"
   ]
  },
  {
   "cell_type": "markdown",
   "metadata": {},
   "source": [
    "В каких случаях для вычисления доверительных интервалов и проверки статистических гипотез используется таблица значений функции Лапласа, а в каких - таблица критических точек распределения Стьюдента? *4. Произвести вычисления как в пункте 2, но с вычислением intercept. Учесть, что изменение коэффициентов должно производиться на каждом шаге одновременно (то есть изменение одного коэффициента не должно влиять на изменение другого во время одной итерации)"
   ]
  },
  {
   "cell_type": "code",
   "execution_count": null,
   "metadata": {},
   "outputs": [],
   "source": []
  },
  {
   "cell_type": "code",
   "execution_count": null,
   "metadata": {},
   "outputs": [],
   "source": []
  }
 ],
 "metadata": {
  "kernelspec": {
   "display_name": "Python 3",
   "language": "python",
   "name": "python3"
  },
  "language_info": {
   "codemirror_mode": {
    "name": "ipython",
    "version": 3
   },
   "file_extension": ".py",
   "mimetype": "text/x-python",
   "name": "python",
   "nbconvert_exporter": "python",
   "pygments_lexer": "ipython3",
   "version": "3.7.1"
  }
 },
 "nbformat": 4,
 "nbformat_minor": 2
}
