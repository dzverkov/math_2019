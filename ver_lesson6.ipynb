{
 "cells": [
  {
   "cell_type": "code",
   "execution_count": 2,
   "metadata": {},
   "outputs": [],
   "source": [
    "import numpy as np\n",
    "import pandas as pd"
   ]
  },
  {
   "cell_type": "markdown",
   "metadata": {},
   "source": [
    "### Задание 1"
   ]
  },
  {
   "cell_type": "markdown",
   "metadata": {},
   "source": [
    "Даны значения величины заработной платы заемщиков банка (zp) и значения их поведенческого кредитного скоринга (ks):  \n",
    "zp = [35, 45, 190, 200, 40, 70, 54, 150, 120, 110],  \n",
    "ks = [401, 574, 874, 919, 459, 739, 653, 902, 746, 832].  \n",
    "Найдите ковариацию этих двух величин с помощью элементарных действий, а затем с помощью функции cov из numpy  \n",
    "Полученные значения должны быть равны.  \n",
    "Найдите коэффициент корреляции Пирсона с помощью ковариации и среднеквадратичных отклонений двух признаков,  \n",
    "а затем с использованием функций из библиотек numpy и pandas.  "
   ]
  },
  {
   "cell_type": "code",
   "execution_count": 37,
   "metadata": {},
   "outputs": [
    {
     "name": "stdout",
     "output_type": "stream",
     "text": [
      "cov1 = 9157.839999999997\n",
      "cov2 = 9157.84\n",
      "r1 = 0.8874900920739158\n",
      "r2 = 0.8874900920739159\n",
      "r3 = 0.8874900920739162\n"
     ]
    }
   ],
   "source": [
    "zp = np.array([35, 45, 190, 200, 40, 70, 54, 150, 120, 110])\n",
    "ks = np.array([401, 574, 874, 919, 459, 739, 653, 902, 746, 832])\n",
    "\n",
    "cov1 = np.mean(zp * ks) - np.mean(zp) * np.mean(ks)\n",
    "cov2 = np.cov(zp, ks, ddof=0)[0, 1]\n",
    "\n",
    "print(f\"cov1 = {cov1}\")\n",
    "print(f\"cov2 = {cov2}\")\n",
    "\n",
    "r1 = cov1 / (np.std(zp, ddof=0) * np.std(ks, ddof=0))\n",
    "# numpy\n",
    "r2 = np.corrcoef(zp, ks)[0, 1]\n",
    "# pandas\n",
    "df = pd.DataFrame(list(zip(zp,ks)), columns=['zp','ks'])\n",
    "r3 = df.corr().loc['zp', 'ks']\n",
    "\n",
    "print(f\"r1 = {r1}\")\n",
    "print(f\"r2 = {r2}\")\n",
    "print(f\"r3 = {r3}\")\n",
    "\n"
   ]
  },
  {
   "cell_type": "markdown",
   "metadata": {},
   "source": [
    "### Задание 2"
   ]
  },
  {
   "cell_type": "markdown",
   "metadata": {},
   "source": [
    "Измерены значения IQ выборки студентов,  \n",
    "обучающихся в местных технических вузах:  \n",
    "131, 125, 115, 122, 131, 115, 107, 99, 125, 111.  \n",
    "Известно, что в генеральной совокупности IQ распределен нормально.  \n",
    "Найдите доверительный интервал для математического ожидания с надежностью 0.95.  "
   ]
  },
  {
   "cell_type": "code",
   "execution_count": 38,
   "metadata": {},
   "outputs": [
    {
     "name": "stdout",
     "output_type": "stream",
     "text": [
      "110.55660776308164 125.64339223691834\n"
     ]
    }
   ],
   "source": [
    "ar = np.array([131, 125, 115, 122, 131, 115, 107, 99, 125, 111])\n",
    "std_ = np.std(ar, ddof=1) # среднее квадратичное отклонение\n",
    "Mx = ar.mean() # выборочное среднее\n",
    "n = len(ar) # объем выборки\n",
    "a = 0.05 # уровень значимости (100%-95%)\n",
    "Ta = 2.262 # Для n-1=9 и a=0.025\n",
    "\n",
    "p1 = Mx - Ta *std_/np.sqrt(n)\n",
    "p2 = Mx + Ta *std_/np.sqrt(n)\n",
    "\n",
    "print(p1,p2)"
   ]
  },
  {
   "cell_type": "markdown",
   "metadata": {},
   "source": [
    "### Задание 3"
   ]
  },
  {
   "cell_type": "markdown",
   "metadata": {},
   "source": [
    "Известно, что рост футболистов в сборной распределен нормально  \n",
    "с дисперсией генеральной совокупности, равной 25 кв.см. Объем выборки равен 27,  \n",
    "среднее выборочное составляет 174.2. Найдите доверительный интервал для математического  \n",
    "ожидания с надежностью 0.95."
   ]
  },
  {
   "cell_type": "code",
   "execution_count": 39,
   "metadata": {},
   "outputs": [
    {
     "name": "stdout",
     "output_type": "stream",
     "text": [
      "172.31398912064722 176.08601087935276\n"
     ]
    }
   ],
   "source": [
    "std_ = np.sqrt(25) # среднее квадратичное отклонение\n",
    "Mx = 174.2 # выборочное среднее\n",
    "n = 27 # объем выборки\n",
    "a = 0.05 # уровень значимости (100%-95%)\n",
    "Za = 1.96 # 0.975\n",
    "\n",
    "p1 = Mx - Za *std_/np.sqrt(n)\n",
    "p2 = Mx + Za *std_/np.sqrt(n)\n",
    "\n",
    "print(p1,p2)"
   ]
  },
  {
   "cell_type": "markdown",
   "metadata": {},
   "source": [
    "### Задание 4"
   ]
  },
  {
   "cell_type": "markdown",
   "metadata": {},
   "source": [
    "На основе данных imdb (датасет с Kaggle - https://www.kaggle.com/carolzhangdc/imdb-5000/downloads/imdb-5000.zip/1).\n",
    "\n",
    "Примерные темы:\n",
    "По возрастным рейтингам рассчитать основные статистические показатели: Мода, медиана, квартили, дисперсию.\n",
    "Проверить есть ли зависимость бюджетов, жанров, imdb рейтингов от возрастных рейтингов.\n",
    "Посмотреть изменения по возрастным рейтингам по годам.\n"
   ]
  }
 ],
 "metadata": {
  "kernelspec": {
   "display_name": "Python 3",
   "language": "python",
   "name": "python3"
  },
  "language_info": {
   "codemirror_mode": {
    "name": "ipython",
    "version": 3
   },
   "file_extension": ".py",
   "mimetype": "text/x-python",
   "name": "python",
   "nbconvert_exporter": "python",
   "pygments_lexer": "ipython3",
   "version": "3.7.1"
  }
 },
 "nbformat": 4,
 "nbformat_minor": 2
}
